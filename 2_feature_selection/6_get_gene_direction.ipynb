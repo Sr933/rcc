{
 "cells": [
  {
   "cell_type": "code",
   "execution_count": 4,
   "metadata": {},
   "outputs": [],
   "source": [
    "import pickle\n",
    "import pandas as pd\n",
    "# Define the path to the .pkl file\n",
    "input_path = \"/data/sr933/scRCC/combined_data/RCC_data_dict.pkl\"\n",
    "\n",
    "# Load the dictionary from the .pkl file\n",
    "with open(input_path, \"rb\") as f:\n",
    "    data_dict = pickle.load(f)\n",
    "\n",
    "# Access the contents of the dictionary\n",
    "X_combined = data_dict[\"X\"].T\n",
    "y_labels = data_dict[\"y\"]\n",
    "gene_list = data_dict[\"Genes\"]\n",
    "# Read the CSV file\n",
    "df = pd.read_csv('/home/sr933/rcc/data/Target_genes.csv')\n",
    "\n",
    "# Convert the 'Genes' column to a list\n",
    "target_genes_list = df['Genes'].tolist()\n",
    "# Get indices of elements in sublist from main_list\n",
    "indices = [i for i, element in enumerate(gene_list) if element in target_genes_list]\n",
    "\n",
    "# Select columns based on indices\n",
    "filtered_X = X_combined[:, indices]\n"
   ]
  },
  {
   "cell_type": "code",
   "execution_count": 5,
   "metadata": {},
   "outputs": [
    {
     "name": "stdout",
     "output_type": "stream",
     "text": [
      "Result: ['upregulated', 'upregulated', 'downregulated', 'downregulated', 'downregulated', 'upregulated', 'upregulated', 'downregulated', 'upregulated', 'upregulated', 'downregulated', 'upregulated', 'downregulated', 'upregulated', 'upregulated', 'upregulated', 'upregulated', 'upregulated', 'upregulated', 'upregulated', 'upregulated', 'upregulated', 'upregulated', 'upregulated', 'upregulated', 'downregulated', 'upregulated', 'downregulated', 'upregulated', 'upregulated', 'upregulated', 'upregulated', 'upregulated', 'upregulated', 'upregulated', 'upregulated', 'downregulated', 'upregulated', 'upregulated', 'upregulated', 'upregulated', 'upregulated', 'upregulated', 'upregulated', 'upregulated', 'upregulated', 'downregulated', 'upregulated', 'upregulated', 'downregulated', 'upregulated', 'upregulated', 'upregulated', 'upregulated', 'upregulated', 'upregulated', 'downregulated', 'upregulated', 'upregulated', 'upregulated', 'upregulated', 'upregulated', 'downregulated', 'upregulated', 'upregulated', 'upregulated', 'upregulated', 'upregulated', 'upregulated', 'upregulated', 'upregulated', 'upregulated', 'downregulated', 'upregulated', 'upregulated', 'upregulated', 'upregulated', 'downregulated', 'downregulated', 'upregulated', 'downregulated', 'upregulated', 'upregulated', 'downregulated', 'upregulated', 'upregulated', 'downregulated', 'downregulated', 'upregulated', 'upregulated', 'downregulated', 'upregulated', 'downregulated', 'upregulated', 'upregulated', 'upregulated']\n"
     ]
    }
   ],
   "source": [
    "y_labels[y_labels >= 1] = 1\n",
    "\n",
    "# Split X_combined into two groups based on y_labels\n",
    "class_0_rows = filtered_X[y_labels == 0]\n",
    "class_1_rows = filtered_X[y_labels == 1]\n",
    "\n",
    "# Calculate the mean for each feature in each class\n",
    "mean_class_0 = class_0_rows.mean(axis=0)\n",
    "mean_class_1 = class_1_rows.mean(axis=0)\n",
    "\n",
    "# Compare means: True if mean for class 0 > mean for class 1, else False\n",
    "larger_for_class_0 = mean_class_0 > mean_class_1\n",
    "\n",
    "# Convert comparison to list\n",
    "result = [\"upregulated\" if mean_0 > mean_1 else \"downregulated\"\n",
    "          for mean_0, mean_1 in zip(mean_class_0, mean_class_1)]\n",
    "\n",
    "# Print the result\n",
    "print(\"Result:\", result)"
   ]
  },
  {
   "cell_type": "code",
   "execution_count": 7,
   "metadata": {},
   "outputs": [],
   "source": [
    "regulation_df= pd.DataFrame({\n",
    "    'Target_Gene': target_genes_list,\n",
    "    'Regulation_Status': result\n",
    "})\n",
    "regulation_df = regulation_df.sort_values(by='Regulation_Status')\n",
    "\n",
    "# Filter downregulated genes\n",
    "downregulated_genes = regulation_df[regulation_df['Regulation_Status'] == 'downregulated'][\"Target_Gene\"]\n",
    "\n",
    "# Filter upregulated genes\n",
    "upregulated_genes = regulation_df[regulation_df['Regulation_Status'] == 'upregulated'][\"Target_Gene\"]\n",
    "\n",
    "\n",
    "# Save each to a CSV file\n",
    "downregulated_genes.to_csv('/home/sr933/rcc/data/downregulated_genes.csv', index=False)\n",
    "upregulated_genes.to_csv('/home/sr933/rcc/data/upregulated_genes.csv', index=False)"
   ]
  }
 ],
 "metadata": {
  "kernelspec": {
   "display_name": "rcc",
   "language": "python",
   "name": "python3"
  },
  "language_info": {
   "codemirror_mode": {
    "name": "ipython",
    "version": 3
   },
   "file_extension": ".py",
   "mimetype": "text/x-python",
   "name": "python",
   "nbconvert_exporter": "python",
   "pygments_lexer": "ipython3",
   "version": "3.12.8"
  }
 },
 "nbformat": 4,
 "nbformat_minor": 2
}
