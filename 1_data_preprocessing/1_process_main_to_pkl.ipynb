{
 "cells": [
  {
   "cell_type": "code",
   "execution_count": null,
   "metadata": {},
   "outputs": [],
   "source": [
    "import pyreadr\n",
    "import pandas as pd\n",
    "import numpy as np\n",
    "\n",
    "\n",
    "# Path to the RDS file\n",
    "rcc_filepath = \"/data/sr933/scRCC/RCC_cells_expression_matrix.rds\"\n",
    "endo_filepath= \"/data/sr933/scRCC/Endo_cells_expression_matrix.rds\"\n",
    "b_filepath = \"/data/sr933/scRCC/B_cells_expression_matrix.rds\"\n",
    "cd4_filepath= \"/data/sr933/scRCC/CD4_cells_expression_matrix.rds\"\n",
    "cd8_filepath = \"/data/sr933/scRCC/CD8_cells_expression_matrix.rds\"\n",
    "epi_filepath= \"/data/sr933/scRCC/Epi_cells_expression_matrix.rds\"\n",
    "fibro_filepath = \"/data/sr933/scRCC/Fibro_cells_expression_matrix.rds\"\n",
    "mye_filepath= \"/data/sr933/scRCC/Mye_cells_expression_matrix.rds\"\n",
    "nk_filepath = \"/data/sr933/scRCC/NK_cells_expression_matrix.rds\"\n",
    "\n",
    "# List of file paths\n",
    "filepaths = [\n",
    "    rcc_filepath,\n",
    "    endo_filepath,\n",
    "    b_filepath,\n",
    "    cd4_filepath,\n",
    "    cd8_filepath,\n",
    "    epi_filepath,\n",
    "    fibro_filepath,\n",
    "    mye_filepath,\n",
    "    nk_filepath\n",
    "]\n",
    "\n",
    "# Function to extract DataFrame\n",
    "def extract_df(rds_filepath):\n",
    "    # Skip CD8 files\n",
    "    result = pyreadr.read_r(rds_filepath)  # Read RDS file\n",
    "    df = list(result.values())[0]         # Extract the first object (the DataFrame)\n",
    "    return df\n",
    "\n",
    "# Extract all DataFrames into a dictionary\n",
    "dataframes = {filepath[:3]: extract_df(filepath) for filepath in filepaths}\n",
    "\n",
    "\n",
    "    "
   ]
  },
  {
   "cell_type": "code",
   "execution_count": null,
   "metadata": {},
   "outputs": [],
   "source": [
    "# Extract the indices of all DataFrames\n",
    "all_indices = [df.index for df in dataframes.values() if df is not None]\n",
    "\n",
    "# Find the common indices across all DataFrames\n",
    "common_indices = all_indices[0]\n",
    "for idx in all_indices[1:]:\n",
    "    common_indices = common_indices.intersection(idx)\n",
    "\n",
    "# Filter each DataFrame to only include the common indices\n",
    "filtered_dataframes = {key: df.loc[common_indices] for key, df in dataframes.items() if df is not None}\n",
    "\n",
    "# Optionally, sort each filtered DataFrame by index\n",
    "sorted_dataframes = {key: df.sort_index() for key, df in filtered_dataframes.items()}\n",
    "\n",
    "# Output results\n",
    "print(\"Common Indices:\", len(common_indices.tolist()))\n"
   ]
  },
  {
   "cell_type": "code",
   "execution_count": null,
   "metadata": {},
   "outputs": [],
   "source": [
    "# Update the gene list with the sorted common indices\n",
    "gene_list = common_indices.tolist()\n",
    "X_combined = None\n",
    "y_labels = []\n",
    "current_label = 0  # Start labeling from 0\n",
    "\n",
    "for key, df in filtered_dataframes.items():\n",
    "    data = df.to_numpy()  # Convert DataFrame to NumPy array\n",
    "    if X_combined is None:\n",
    "        X_combined = data  # Initialize combined array\n",
    "    else:\n",
    "        X_combined = np.concatenate((X_combined, data), axis=1)  # Concatenate along columns\n",
    "    y_labels.extend([current_label] * data.shape[1])  # Append labels for this DataFrame\n",
    "    current_label += 1\n",
    "\n",
    "# Convert y_labels to a NumPy array\n",
    "y_labels = np.array(y_labels)\n",
    "\n",
    "# Output results\n",
    "print(\"Gene list:\", gene_list)\n",
    "print(\"X_combined shape:\", X_combined.shape)\n",
    "print(\"y_labels shape:\", y_labels.shape)"
   ]
  },
  {
   "cell_type": "code",
   "execution_count": null,
   "metadata": {},
   "outputs": [],
   "source": [
    "import pickle\n",
    "\n",
    "# Define the path where you want to save the .pkl file\n",
    "output_path = \"/data/sr933/scRCC/combined_data/RCC_data_dict.pkl\"\n",
    "data_dict={\"X\": X_combined, \"y\":y_labels, \"Genes\": gene_list }\n",
    "# Save the dictionary as a .pkl file\n",
    "with open(output_path, \"wb\") as f:\n",
    "    pickle.dump(data_dict, f)\n",
    "\n",
    "\n",
    "\n"
   ]
  }
 ],
 "metadata": {
  "kernelspec": {
   "display_name": "rcc",
   "language": "python",
   "name": "python3"
  },
  "language_info": {
   "codemirror_mode": {
    "name": "ipython",
    "version": 3
   },
   "file_extension": ".py",
   "mimetype": "text/x-python",
   "name": "python",
   "nbconvert_exporter": "python",
   "pygments_lexer": "ipython3",
   "version": "3.9.20"
  }
 },
 "nbformat": 4,
 "nbformat_minor": 2
}
