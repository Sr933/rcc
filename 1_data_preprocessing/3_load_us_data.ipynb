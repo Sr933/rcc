{
 "cells": [
  {
   "cell_type": "code",
   "execution_count": 1,
   "metadata": {},
   "outputs": [
    {
     "ename": "ModuleNotFoundError",
     "evalue": "No module named 'h5py'",
     "output_type": "error",
     "traceback": [
      "\u001b[0;31m---------------------------------------------------------------------------\u001b[0m",
      "\u001b[0;31mModuleNotFoundError\u001b[0m                       Traceback (most recent call last)",
      "Cell \u001b[0;32mIn[1], line 2\u001b[0m\n\u001b[1;32m      1\u001b[0m \u001b[38;5;28;01mimport\u001b[39;00m \u001b[38;5;21;01mpandas\u001b[39;00m \u001b[38;5;28;01mas\u001b[39;00m \u001b[38;5;21;01mpd\u001b[39;00m\n\u001b[0;32m----> 2\u001b[0m \u001b[38;5;28;01mimport\u001b[39;00m \u001b[38;5;21;01mh5py\u001b[39;00m\n\u001b[1;32m      3\u001b[0m \u001b[38;5;28;01mfrom\u001b[39;00m \u001b[38;5;21;01mscipy\u001b[39;00m\u001b[38;5;21;01m.\u001b[39;00m\u001b[38;5;21;01msparse\u001b[39;00m \u001b[38;5;28;01mimport\u001b[39;00m csc_matrix\n\u001b[1;32m      4\u001b[0m \u001b[38;5;28;01mimport\u001b[39;00m \u001b[38;5;21;01mos\u001b[39;00m\n",
      "\u001b[0;31mModuleNotFoundError\u001b[0m: No module named 'h5py'"
     ]
    }
   ],
   "source": [
    "import pandas as pd\n",
    "import h5py\n",
    "from scipy.sparse import csc_matrix\n",
    "import os\n",
    "import numpy as np\n",
    "def load_h5_data(file_path, annotation_file):\n",
    "    # Load the HDF5 data\n",
    "    with h5py.File(file_path, 'r') as h5_file:\n",
    "        group = h5_file['GRCh38']\n",
    "\n",
    "        # Load datasets from the HDF5 file\n",
    "        barcodes = group['barcodes'][:].astype(str)  # Convert bytes to strings\n",
    "        data = group['data'][:]\n",
    "        gene_names = group['gene_names'][:].astype(str)  # Gene names\n",
    "        indices = group['indices'][:]\n",
    "        indptr = group['indptr'][:]\n",
    "        shape = tuple(group['shape'][:])\n",
    "\n",
    "    # Reconstruct the sparse matrix using CSC format\n",
    "    sparse_matrix = csc_matrix((data, indices, indptr), shape=shape)\n",
    "\n",
    "    # Convert the sparse matrix to a Pandas DataFrame\n",
    "    df = pd.DataFrame.sparse.from_spmatrix(sparse_matrix)\n",
    "\n",
    "    # Load the annotation data\n",
    "    annotation_df = pd.read_csv(annotation_file, compression='gzip')\n",
    "\n",
    "    # Extract the barcode part from the cell column\n",
    "    annotation_df['barcode'] = annotation_df.apply(lambda row: row['cell'].replace(f\"{row['sample']}_\", \"\"), axis=1)\n",
    "\n",
    "    # Create a dictionary to map barcodes to annotations\n",
    "    annotation_dict = dict(zip(annotation_df['barcode'], annotation_df['anno']))\n",
    "    print(len(annotation_dict))\n",
    "    # Map the barcodes in HDF5 data to their annotations\n",
    "    df.index = gene_names\n",
    "    df.columns = [annotation_dict.get(b, \"Unknown\") for b in barcodes]   # Column labels\n",
    "    return df\n",
    "\n",
    "\n",
    "\n"
   ]
  },
  {
   "cell_type": "code",
   "execution_count": 80,
   "metadata": {},
   "outputs": [
    {
     "name": "stdout",
     "output_type": "stream",
     "text": [
      "GSM4819727_SI_18855_filtered_gene_bc_matrices_h5.h5\n",
      "/data/sr933/scRCC validation/GSE159115_RAW/GSE159115_normal_anno.csv.gz\n",
      "6135\n",
      "GSM4819726_SI_18856_filtered_gene_bc_matrices_h5.h5\n",
      "/data/sr933/scRCC validation/GSE159115_RAW/GSE159115_ccRCC_anno.csv.gz\n",
      "20509\n",
      "GSM4819728_SI_19704_filtered_gene_bc_matrices_h5.h5\n",
      "/data/sr933/scRCC validation/GSE159115_RAW/GSE159115_ccRCC_anno.csv.gz\n",
      "20509\n",
      "GSM4819725_SI_18854_filtered_gene_bc_matrices_h5.h5\n",
      "/data/sr933/scRCC validation/GSE159115_RAW/GSE159115_ccRCC_anno.csv.gz\n",
      "20509\n",
      "GSM4819729_SI_19703_filtered_gene_bc_matrices_h5.h5\n",
      "/data/sr933/scRCC validation/GSE159115_RAW/GSE159115_normal_anno.csv.gz\n",
      "6135\n",
      "GSM4819730_SI_21255_filtered_gene_bc_matrices_h5.h5\n",
      "/data/sr933/scRCC validation/GSE159115_RAW/GSE159115_normal_anno.csv.gz\n",
      "6135\n",
      "GSM4819731_SI_21256_filtered_gene_bc_matrices_h5.h5\n",
      "/data/sr933/scRCC validation/GSE159115_RAW/GSE159115_normal_anno.csv.gz\n",
      "6135\n",
      "GSM4819733_SI_22369_filtered_gene_bc_matrices_h5.h5\n",
      "/data/sr933/scRCC validation/GSE159115_RAW/GSE159115_ccRCC_anno.csv.gz\n",
      "20509\n",
      "GSM4819735_SI_22605_filtered_gene_bc_matrices_h5.h5\n",
      "/data/sr933/scRCC validation/GSE159115_RAW/GSE159115_ccRCC_anno.csv.gz\n",
      "20509\n",
      "GSM4819734_SI_22368_filtered_gene_bc_matrices_h5.h5\n",
      "/data/sr933/scRCC validation/GSE159115_RAW/GSE159115_normal_anno.csv.gz\n",
      "6135\n",
      "GSM4819736_SI_22604_filtered_gene_bc_matrices_h5.h5\n",
      "/data/sr933/scRCC validation/GSE159115_RAW/GSE159115_ccRCC_anno.csv.gz\n",
      "20509\n",
      "GSM4819737_SI_23459_filtered_gene_bc_matrices_h5.h5\n",
      "/data/sr933/scRCC validation/GSE159115_RAW/GSE159115_ccRCC_anno.csv.gz\n",
      "20509\n",
      "GSM4819738_SI_23843_filtered_gene_bc_matrices_h5.h5\n",
      "/data/sr933/scRCC validation/GSE159115_RAW/GSE159115_ccRCC_anno.csv.gz\n",
      "20509\n",
      "['Benign', 'ccRCC', 'ccRCC', 'ccRCC', 'Benign', 'Benign', 'Benign', 'ccRCC', 'ccRCC', 'Benign', 'ccRCC', 'ccRCC', 'ccRCC']\n"
     ]
    }
   ],
   "source": [
    "main_folder=\"/data/sr933/scRCC validation/GSE159115_RAW\"\n",
    "label_file=\"/data/sr933/scRCC validation/GSE159115_RAW/sample alloc\"\n",
    "path_anno_ben = \"/data/sr933/scRCC validation/GSE159115_RAW/GSE159115_normal_anno.csv.gz\"\n",
    "path_anno_tum = \"/data/sr933/scRCC validation/GSE159115_RAW/GSE159115_ccRCC_anno.csv.gz\"\n",
    "data=[]\n",
    "labels=[]\n",
    "label_df=pd.read_csv(label_file)\n",
    "\n",
    "for folder in os.listdir(main_folder):\n",
    "    if \".h5\" in folder:\n",
    "        print(folder)\n",
    "        file_path=os.path.join(main_folder, folder)\n",
    "        for _, row in label_df.iterrows():\n",
    "            sample_id = row['sample']  # Column name to match, adjust if different\n",
    "            alloc=row['class']\n",
    "            # Check if the sample ID is in the folder name\n",
    "            if sample_id in folder:\n",
    "                # Append the relevant row to the data list\n",
    "                labels.append(alloc)\n",
    "                break  # Exit loop once a match is found for this fol\n",
    "        annotation_path=path_anno_ben if alloc==\"Benign\" else path_anno_tum\n",
    "        print(annotation_path)\n",
    "        df=load_h5_data(file_path, annotation_path)\n",
    "        data.append(df)\n",
    "        \n",
    "\n",
    "print(labels)"
   ]
  },
  {
   "cell_type": "code",
   "execution_count": 84,
   "metadata": {},
   "outputs": [
    {
     "name": "stdout",
     "output_type": "stream",
     "text": [
      "Number of columns with Unknown annotation: 14400\n",
      "(33694, 15099)\n"
     ]
    }
   ],
   "source": [
    "combined_df = pd.concat(data, axis=1)\n",
    "# Count how many \"Unknown\" columns there are\n",
    "num_unknowns = (combined_df.columns == \"Unknown\").sum()\n",
    "print(f\"Number of columns with Unknown annotation: {num_unknowns}\")\n",
    "\n",
    "cleaned_df = combined_df.loc[:, ~combined_df.columns.str.contains(\"Unknown\")]\n",
    "\n",
    "# Print the shape of the DataFrame after cleaning\n",
    "print(cleaned_df.shape)"
   ]
  },
  {
   "cell_type": "code",
   "execution_count": 87,
   "metadata": {},
   "outputs": [
    {
     "name": "stdout",
     "output_type": "stream",
     "text": [
      "['Macro', 'tAL', 'DCT', 'Mono', 'GC', 'DL', 'vSMC', 'Mast', 'unknown', 'TAL', 'PC', 'IC-A', 'Endo_PLVAP', 'Endo_ACKR1', 'Macro_MKI67', 'Mesangial', 'IC-PC', 'PT-A', 'AVR', 'Bcell', 'Tumor', 'CNT', 'Tcell', 'Peri', 'ua', 'PT-B', 'Tcell_CD8', 'NKcell', 'IC-B', 'Plasma', 'AEA-DVR']\n"
     ]
    }
   ],
   "source": [
    "print(list(set(cleaned_df)))"
   ]
  },
  {
   "cell_type": "code",
   "execution_count": 88,
   "metadata": {},
   "outputs": [],
   "source": [
    "import pickle\n",
    "validation_data={\"X_data\": cleaned_df}\n",
    "# Path to save the pickle file\n",
    "pickle_file_path = \"/data/sr933/scRCC validation/processed data/scRCC_validation_data.pkl\"  # Update with your desired path\n",
    "\n",
    "# Save the validation_data dictionary as a pickle file\n",
    "with open(pickle_file_path, \"wb\") as pkl_file:\n",
    "    pickle.dump(validation_data, pkl_file)"
   ]
  }
 ],
 "metadata": {
  "kernelspec": {
   "display_name": "rcc",
   "language": "python",
   "name": "python3"
  },
  "language_info": {
   "codemirror_mode": {
    "name": "ipython",
    "version": 3
   },
   "file_extension": ".py",
   "mimetype": "text/x-python",
   "name": "python",
   "nbconvert_exporter": "python",
   "pygments_lexer": "ipython3",
   "version": "3.9.21"
  }
 },
 "nbformat": 4,
 "nbformat_minor": 2
}
